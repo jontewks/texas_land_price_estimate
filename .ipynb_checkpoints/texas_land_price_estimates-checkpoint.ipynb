{
 "cells": [
  {
   "cell_type": "code",
   "execution_count": 1,
   "id": "blessed-characterization",
   "metadata": {},
   "outputs": [],
   "source": [
    "import pandas as pd\n",
    "import numpy as np\n",
    "from sklearn.linear_model import LinearRegression\n",
    "from matplotlib import pyplot as plt\n",
    "import seaborn as sns"
   ]
  },
  {
   "cell_type": "code",
   "execution_count": 2,
   "id": "noted-ladder",
   "metadata": {},
   "outputs": [
    {
     "data": {
      "text/html": [
       "<div>\n",
       "<style scoped>\n",
       "    .dataframe tbody tr th:only-of-type {\n",
       "        vertical-align: middle;\n",
       "    }\n",
       "\n",
       "    .dataframe tbody tr th {\n",
       "        vertical-align: top;\n",
       "    }\n",
       "\n",
       "    .dataframe thead th {\n",
       "        text-align: right;\n",
       "    }\n",
       "</style>\n",
       "<table border=\"1\" class=\"dataframe\">\n",
       "  <thead>\n",
       "    <tr style=\"text-align: right;\">\n",
       "      <th></th>\n",
       "      <th>state</th>\n",
       "      <th>area</th>\n",
       "      <th>year</th>\n",
       "      <th>quarter</th>\n",
       "      <th>medianAcreage</th>\n",
       "      <th>nominalPrice</th>\n",
       "      <th>nominalPercent</th>\n",
       "      <th>nominalGrowth</th>\n",
       "      <th>realPrice</th>\n",
       "      <th>realPercent</th>\n",
       "      <th>annualVolume</th>\n",
       "      <th>qtrVolume</th>\n",
       "    </tr>\n",
       "  </thead>\n",
       "  <tbody>\n",
       "    <tr>\n",
       "      <th>0</th>\n",
       "      <td>Texas</td>\n",
       "      <td>Panhandle - North (LMA 1)</td>\n",
       "      <td>1971</td>\n",
       "      <td>0</td>\n",
       "      <td>320</td>\n",
       "      <td>193</td>\n",
       "      <td>-19.08</td>\n",
       "      <td>-0.71</td>\n",
       "      <td>155</td>\n",
       "      <td>-22.98</td>\n",
       "      <td>59.0</td>\n",
       "      <td>NaN</td>\n",
       "    </tr>\n",
       "    <tr>\n",
       "      <th>1</th>\n",
       "      <td>Texas</td>\n",
       "      <td>Panhandle - North (LMA 1)</td>\n",
       "      <td>1972</td>\n",
       "      <td>0</td>\n",
       "      <td>320</td>\n",
       "      <td>210</td>\n",
       "      <td>8.81</td>\n",
       "      <td>0.14</td>\n",
       "      <td>162</td>\n",
       "      <td>4.31</td>\n",
       "      <td>72.0</td>\n",
       "      <td>NaN</td>\n",
       "    </tr>\n",
       "    <tr>\n",
       "      <th>2</th>\n",
       "      <td>Texas</td>\n",
       "      <td>Panhandle - North (LMA 1)</td>\n",
       "      <td>1973</td>\n",
       "      <td>0</td>\n",
       "      <td>560</td>\n",
       "      <td>210</td>\n",
       "      <td>0.00</td>\n",
       "      <td>0.98</td>\n",
       "      <td>153</td>\n",
       "      <td>-5.20</td>\n",
       "      <td>69.0</td>\n",
       "      <td>NaN</td>\n",
       "    </tr>\n",
       "    <tr>\n",
       "      <th>3</th>\n",
       "      <td>Texas</td>\n",
       "      <td>Panhandle - North (LMA 1)</td>\n",
       "      <td>1974</td>\n",
       "      <td>0</td>\n",
       "      <td>480</td>\n",
       "      <td>299</td>\n",
       "      <td>42.38</td>\n",
       "      <td>8.37</td>\n",
       "      <td>200</td>\n",
       "      <td>30.59</td>\n",
       "      <td>95.0</td>\n",
       "      <td>NaN</td>\n",
       "    </tr>\n",
       "    <tr>\n",
       "      <th>4</th>\n",
       "      <td>Texas</td>\n",
       "      <td>Panhandle - North (LMA 1)</td>\n",
       "      <td>1975</td>\n",
       "      <td>0</td>\n",
       "      <td>325</td>\n",
       "      <td>435</td>\n",
       "      <td>45.48</td>\n",
       "      <td>12.77</td>\n",
       "      <td>267</td>\n",
       "      <td>33.21</td>\n",
       "      <td>52.0</td>\n",
       "      <td>NaN</td>\n",
       "    </tr>\n",
       "  </tbody>\n",
       "</table>\n",
       "</div>"
      ],
      "text/plain": [
       "   state                       area  year  quarter  medianAcreage  \\\n",
       "0  Texas  Panhandle - North (LMA 1)  1971        0            320   \n",
       "1  Texas  Panhandle - North (LMA 1)  1972        0            320   \n",
       "2  Texas  Panhandle - North (LMA 1)  1973        0            560   \n",
       "3  Texas  Panhandle - North (LMA 1)  1974        0            480   \n",
       "4  Texas  Panhandle - North (LMA 1)  1975        0            325   \n",
       "\n",
       "   nominalPrice  nominalPercent  nominalGrowth  realPrice  realPercent  \\\n",
       "0           193          -19.08          -0.71        155       -22.98   \n",
       "1           210            8.81           0.14        162         4.31   \n",
       "2           210            0.00           0.98        153        -5.20   \n",
       "3           299           42.38           8.37        200        30.59   \n",
       "4           435           45.48          12.77        267        33.21   \n",
       "\n",
       "   annualVolume  qtrVolume  \n",
       "0          59.0        NaN  \n",
       "1          72.0        NaN  \n",
       "2          69.0        NaN  \n",
       "3          95.0        NaN  \n",
       "4          52.0        NaN  "
      ]
     },
     "execution_count": 2,
     "metadata": {},
     "output_type": "execute_result"
    }
   ],
   "source": [
    "df = pd.read_csv('historical_prices.csv')\n",
    "df.head()"
   ]
  },
  {
   "cell_type": "markdown",
   "id": "statutory-affiliate",
   "metadata": {},
   "source": [
    "Only grab the info we care about"
   ]
  },
  {
   "cell_type": "code",
   "execution_count": 3,
   "id": "otherwise-stage",
   "metadata": {},
   "outputs": [
    {
     "data": {
      "text/html": [
       "<div>\n",
       "<style scoped>\n",
       "    .dataframe tbody tr th:only-of-type {\n",
       "        vertical-align: middle;\n",
       "    }\n",
       "\n",
       "    .dataframe tbody tr th {\n",
       "        vertical-align: top;\n",
       "    }\n",
       "\n",
       "    .dataframe thead th {\n",
       "        text-align: right;\n",
       "    }\n",
       "</style>\n",
       "<table border=\"1\" class=\"dataframe\">\n",
       "  <thead>\n",
       "    <tr style=\"text-align: right;\">\n",
       "      <th></th>\n",
       "      <th>area</th>\n",
       "      <th>year</th>\n",
       "      <th>price_per_acre</th>\n",
       "    </tr>\n",
       "  </thead>\n",
       "  <tbody>\n",
       "    <tr>\n",
       "      <th>0</th>\n",
       "      <td>Panhandle - North (LMA 1)</td>\n",
       "      <td>1971</td>\n",
       "      <td>193</td>\n",
       "    </tr>\n",
       "    <tr>\n",
       "      <th>1</th>\n",
       "      <td>Panhandle - North (LMA 1)</td>\n",
       "      <td>1972</td>\n",
       "      <td>210</td>\n",
       "    </tr>\n",
       "    <tr>\n",
       "      <th>2</th>\n",
       "      <td>Panhandle - North (LMA 1)</td>\n",
       "      <td>1973</td>\n",
       "      <td>210</td>\n",
       "    </tr>\n",
       "    <tr>\n",
       "      <th>3</th>\n",
       "      <td>Panhandle - North (LMA 1)</td>\n",
       "      <td>1974</td>\n",
       "      <td>299</td>\n",
       "    </tr>\n",
       "    <tr>\n",
       "      <th>4</th>\n",
       "      <td>Panhandle - North (LMA 1)</td>\n",
       "      <td>1975</td>\n",
       "      <td>435</td>\n",
       "    </tr>\n",
       "  </tbody>\n",
       "</table>\n",
       "</div>"
      ],
      "text/plain": [
       "                        area  year  price_per_acre\n",
       "0  Panhandle - North (LMA 1)  1971             193\n",
       "1  Panhandle - North (LMA 1)  1972             210\n",
       "2  Panhandle - North (LMA 1)  1973             210\n",
       "3  Panhandle - North (LMA 1)  1974             299\n",
       "4  Panhandle - North (LMA 1)  1975             435"
      ]
     },
     "execution_count": 3,
     "metadata": {},
     "output_type": "execute_result"
    }
   ],
   "source": [
    "df = df[['area', 'year', 'nominalPrice']]\n",
    "df = df.rename(columns={'nominalPrice': 'price_per_acre'})\n",
    "df.head()"
   ]
  },
  {
   "cell_type": "code",
   "execution_count": 4,
   "id": "recognized-algorithm",
   "metadata": {},
   "outputs": [
    {
     "name": "stdout",
     "output_type": "stream",
     "text": [
      "<class 'pandas.core.frame.DataFrame'>\n",
      "RangeIndex: 1647 entries, 0 to 1646\n",
      "Data columns (total 3 columns):\n",
      " #   Column          Non-Null Count  Dtype \n",
      "---  ------          --------------  ----- \n",
      " 0   area            1647 non-null   object\n",
      " 1   year            1647 non-null   int64 \n",
      " 2   price_per_acre  1647 non-null   int64 \n",
      "dtypes: int64(2), object(1)\n",
      "memory usage: 38.7+ KB\n"
     ]
    }
   ],
   "source": [
    "df.info()"
   ]
  },
  {
   "cell_type": "markdown",
   "id": "painful-guitar",
   "metadata": {},
   "source": [
    "After inspecting the data later on, I found its exponential in growth which matches with ideas about investments and land, so lets add a log_price_per_acre to help deal with this"
   ]
  },
  {
   "cell_type": "code",
   "execution_count": 5,
   "id": "advance-microphone",
   "metadata": {},
   "outputs": [],
   "source": [
    "df['log_price_per_acre'] = np.log(df['price_per_acre'])\n",
    "df = df.drop('price_per_acre', axis=1)"
   ]
  },
  {
   "cell_type": "markdown",
   "id": "given-shareware",
   "metadata": {},
   "source": [
    "### Linear regression for the menard surrounding area"
   ]
  },
  {
   "cell_type": "code",
   "execution_count": 6,
   "id": "spare-shannon",
   "metadata": {},
   "outputs": [],
   "source": [
    "reg = LinearRegression()"
   ]
  },
  {
   "cell_type": "code",
   "execution_count": 7,
   "id": "modern-newsletter",
   "metadata": {},
   "outputs": [
    {
     "data": {
      "text/plain": [
       "array(['Rolling Plains - Central (LMA 7)',\n",
       "       'Edwards Plateau - West (LMA 9)',\n",
       "       'Edwards Plateau - South (LMA 10)', 'Crosstimbers (LMA 13)',\n",
       "       'Hill Country - North (LMA 14)', 'Hill Country - West (LMA 15)',\n",
       "       'Highland Lakes (LMA 16)', 'Hill Country - South (LMA 17)'],\n",
       "      dtype=object)"
      ]
     },
     "execution_count": 7,
     "metadata": {},
     "output_type": "execute_result"
    }
   ],
   "source": [
    "menard_surrounding_area = df[df['area'].str.contains('\\(LMA (?:15|9|7|13|14|16|17|10)\\)', regex=True)]\n",
    "menard_surrounding_area['area'].unique()"
   ]
  },
  {
   "cell_type": "code",
   "execution_count": 8,
   "id": "chubby-reason",
   "metadata": {},
   "outputs": [
    {
     "data": {
      "text/plain": [
       "0.8820011218840894"
      ]
     },
     "execution_count": 8,
     "metadata": {},
     "output_type": "execute_result"
    }
   ],
   "source": [
    "menard_surrounding_area_with_dummies = pd.get_dummies(menard_surrounding_area)\n",
    "X = menard_surrounding_area_with_dummies.drop('log_price_per_acre', axis=1)\n",
    "y = menard_surrounding_area_with_dummies['log_price_per_acre']\n",
    "reg.fit(X, y)\n",
    "reg.score(X, y)"
   ]
  },
  {
   "cell_type": "code",
   "execution_count": 9,
   "id": "fatty-subdivision",
   "metadata": {},
   "outputs": [
    {
     "data": {
      "text/plain": [
       "<matplotlib.axes._subplots.AxesSubplot at 0x1016c4d60>"
      ]
     },
     "execution_count": 9,
     "metadata": {},
     "output_type": "execute_result"
    },
    {
     "data": {
      "image/png": "[encoded data removed]",
      "text/plain": [
       "<Figure size 864x432 with 1 Axes>"
      ]
     },
     "metadata": {
      "needs_background": "light"
     },
     "output_type": "display_data"
    }
   ],
   "source": [
    "plt.figure(figsize=(12,6))\n",
    "sns.regplot(data=menard_surrounding_area, x='year', y='log_price_per_acre', line_kws={'color': 'red'})"
   ]
  },
  {
   "cell_type": "code",
   "execution_count": 10,
   "id": "packed-profession",
   "metadata": {},
   "outputs": [
    {
     "data": {
      "text/plain": [
       "array([3428.16184557, 9766.97214958])"
      ]
     },
     "execution_count": 10,
     "metadata": {},
     "output_type": "execute_result"
    }
   ],
   "source": [
    "prediction_df = (pd.DataFrame(data={'year': [2020, 2040]}, \n",
    "                             columns=menard_surrounding_area_with_dummies.columns)\n",
    "                  .drop('log_price_per_acre', axis=1)\n",
    "                  .fillna(0))\n",
    "        \n",
    "preds = reg.predict(prediction_df)\n",
    "np.exp(preds)"
   ]
  },
  {
   "cell_type": "markdown",
   "id": "announced-parallel",
   "metadata": {},
   "source": [
    "This indicates the current average price per acre for the menard area is `$3,428` with an expected value of `$9,766` in 2040, or an ARR of 5.37%"
   ]
  },
  {
   "cell_type": "markdown",
   "id": "ranging-median",
   "metadata": {},
   "source": [
    "### Linear regression for the hill country"
   ]
  },
  {
   "cell_type": "code",
   "execution_count": 11,
   "id": "incredible-lucas",
   "metadata": {},
   "outputs": [],
   "source": [
    "hill_country = df[df['area'].str.contains('hill country', case=False)]"
   ]
  },
  {
   "cell_type": "code",
   "execution_count": 12,
   "id": "grand-capability",
   "metadata": {},
   "outputs": [
    {
     "data": {
      "text/plain": [
       "0.8969945228516011"
      ]
     },
     "execution_count": 12,
     "metadata": {},
     "output_type": "execute_result"
    }
   ],
   "source": [
    "hill_country_with_dummies = pd.get_dummies(hill_country)\n",
    "X = hill_country_with_dummies.drop('log_price_per_acre', axis=1)\n",
    "y = hill_country_with_dummies['log_price_per_acre']\n",
    "reg.fit(X, y)\n",
    "reg.score(X, y)"
   ]
  },
  {
   "cell_type": "code",
   "execution_count": 13,
   "id": "loved-music",
   "metadata": {},
   "outputs": [
    {
     "data": {
      "text/plain": [
       "<matplotlib.axes._subplots.AxesSubplot at 0x137175280>"
      ]
     },
     "execution_count": 13,
     "metadata": {},
     "output_type": "execute_result"
    },
    {
     "data": {
      "image/png": "[encoded data removed]",
      "text/plain": [
       "<Figure size 864x432 with 1 Axes>"
      ]
     },
     "metadata": {
      "needs_background": "light"
     },
     "output_type": "display_data"
    }
   ],
   "source": [
    "plt.figure(figsize=(12,6))\n",
    "sns.regplot(data=hill_country, x='year', y='log_price_per_acre', line_kws={'color': 'red'})"
   ]
  },
  {
   "cell_type": "code",
   "execution_count": 14,
   "id": "immune-wyoming",
   "metadata": {},
   "outputs": [
    {
     "data": {
      "text/plain": [
       "array([ 5063.34224967, 15929.41602275])"
      ]
     },
     "execution_count": 14,
     "metadata": {},
     "output_type": "execute_result"
    }
   ],
   "source": [
    "prediction_df = (pd.DataFrame(data={'year': [2020, 2040]}, \n",
    "                             columns=hill_country_with_dummies.columns)\n",
    "                  .drop('log_price_per_acre', axis=1)\n",
    "                  .fillna(0))\n",
    "        \n",
    "preds = reg.predict(prediction_df)\n",
    "np.exp(preds)"
   ]
  },
  {
   "cell_type": "markdown",
   "id": "awful-cuisine",
   "metadata": {},
   "source": [
    "This indicates the current average price per acre for the hill country is `$5,063` with an expected value of `$15,929` in 2040, or an ARR of 5.9%"
   ]
  },
  {
   "cell_type": "markdown",
   "id": "british-titanium",
   "metadata": {},
   "source": [
    "### Linear regression for the menard area only"
   ]
  },
  {
   "cell_type": "code",
   "execution_count": 15,
   "id": "other-printer",
   "metadata": {},
   "outputs": [],
   "source": [
    "menard_area = df[df['area'] == 'Hill Country - West (LMA 15)']"
   ]
  },
  {
   "cell_type": "code",
   "execution_count": 16,
   "id": "commercial-helping",
   "metadata": {},
   "outputs": [
    {
     "data": {
      "text/plain": [
       "0.844488697589905"
      ]
     },
     "execution_count": 16,
     "metadata": {},
     "output_type": "execute_result"
    }
   ],
   "source": [
    "menard_area_with_dummies = pd.get_dummies(menard_area)\n",
    "X = menard_area_with_dummies.drop('log_price_per_acre', axis=1)\n",
    "y = menard_area_with_dummies['log_price_per_acre']\n",
    "reg.fit(X, y)\n",
    "reg.score(X, y)"
   ]
  },
  {
   "cell_type": "code",
   "execution_count": 17,
   "id": "subjective-breathing",
   "metadata": {},
   "outputs": [
    {
     "data": {
      "text/plain": [
       "<matplotlib.axes._subplots.AxesSubplot at 0x137212820>"
      ]
     },
     "execution_count": 17,
     "metadata": {},
     "output_type": "execute_result"
    },
    {
     "data": {
      "image/png": "[encoded data removed]",
      "text/plain": [
       "<Figure size 864x432 with 1 Axes>"
      ]
     },
     "metadata": {
      "needs_background": "light"
     },
     "output_type": "display_data"
    }
   ],
   "source": [
    "plt.figure(figsize=(12,6))\n",
    "sns.regplot(data=menard_area, x='year', y='log_price_per_acre', line_kws={'color': 'red'})"
   ]
  },
  {
   "cell_type": "code",
   "execution_count": 18,
   "id": "divine-distribution",
   "metadata": {},
   "outputs": [
    {
     "data": {
      "text/plain": [
       "array([3279.70278349, 9456.55615975])"
      ]
     },
     "execution_count": 18,
     "metadata": {},
     "output_type": "execute_result"
    }
   ],
   "source": [
    "prediction_df = (pd.DataFrame(data={'year': [2020, 2040]}, \n",
    "                             columns=menard_area_with_dummies.columns)\n",
    "                  .drop('log_price_per_acre', axis=1)\n",
    "                  .fillna(0))\n",
    "        \n",
    "preds = reg.predict(prediction_df)\n",
    "np.exp(preds)"
   ]
  },
  {
   "cell_type": "markdown",
   "id": "electoral-performer",
   "metadata": {},
   "source": [
    "This indicates the current average price per acre for the specific Menard area is `$3,279` with an expected value of `$9,456` in 2040, or an ARR of 5.44%"
   ]
  },
  {
   "cell_type": "markdown",
   "id": "second-classics",
   "metadata": {},
   "source": [
    "### Linear regression for the menard surrounding area (Last 20 years)"
   ]
  },
  {
   "cell_type": "code",
   "execution_count": 27,
   "id": "healthy-payment",
   "metadata": {},
   "outputs": [],
   "source": [
    "last_20_menard_area = menard_surrounding_area[(menard_surrounding_area['year'] >= 2000)]"
   ]
  },
  {
   "cell_type": "code",
   "execution_count": 28,
   "id": "royal-friday",
   "metadata": {},
   "outputs": [
    {
     "data": {
      "text/plain": [
       "0.9525467850157748"
      ]
     },
     "execution_count": 28,
     "metadata": {},
     "output_type": "execute_result"
    }
   ],
   "source": [
    "last_20_menard_area_with_dummies = pd.get_dummies(last_20_menard_area)\n",
    "X = last_20_menard_area_with_dummies.drop('log_price_per_acre', axis=1)\n",
    "y = last_20_menard_area_with_dummies['log_price_per_acre']\n",
    "reg.fit(X, y)\n",
    "reg.score(X, y)"
   ]
  },
  {
   "cell_type": "code",
   "execution_count": 30,
   "id": "pharmaceutical-heather",
   "metadata": {},
   "outputs": [
    {
     "data": {
      "text/plain": [
       "<matplotlib.axes._subplots.AxesSubplot at 0x1374a2b20>"
      ]
     },
     "execution_count": 30,
     "metadata": {},
     "output_type": "execute_result"
    },
    {
     "data": {
      "image/png": "[encoded data removed]",
      "text/plain": [
       "<Figure size 864x432 with 1 Axes>"
      ]
     },
     "metadata": {
      "needs_background": "light"
     },
     "output_type": "display_data"
    }
   ],
   "source": [
    "plt.figure(figsize=(12,6))\n",
    "sns.regplot(data=last_20_menard_area, x='year', y='log_price_per_acre', line_kws={'color': 'red'})"
   ]
  },
  {
   "cell_type": "code",
   "execution_count": 31,
   "id": "fourth-injection",
   "metadata": {
    "tags": []
   },
   "outputs": [
    {
     "data": {
      "text/plain": [
       "array([ 4304.81664872, 17199.78829818])"
      ]
     },
     "execution_count": 31,
     "metadata": {},
     "output_type": "execute_result"
    }
   ],
   "source": [
    "prediction_df = (pd.DataFrame(data={'year': [2020, 2040]}, \n",
    "                             columns=last_20_menard_area_with_dummies.columns)\n",
    "                  .drop('log_price_per_acre', axis=1)\n",
    "                  .fillna(0))\n",
    "        \n",
    "preds = reg.predict(prediction_df)\n",
    "np.exp(preds)"
   ]
  },
  {
   "cell_type": "markdown",
   "id": "suited-intersection",
   "metadata": {},
   "source": [
    "This indicates the current average price per acre for the specific Menard area with recent data is `$4,304` with an expected value of `$17,199` in 2040, or an ARR of 7.17%"
   ]
  },
  {
   "cell_type": "markdown",
   "id": "ideal-premiere",
   "metadata": {},
   "source": [
    "### Linear regression for the menard area only (Last 20 years)"
   ]
  },
  {
   "cell_type": "code",
   "execution_count": 23,
   "id": "literary-leeds",
   "metadata": {},
   "outputs": [],
   "source": [
    "last_20_menard = menard_area[(menard_area['year'] >= 2000)]"
   ]
  },
  {
   "cell_type": "code",
   "execution_count": 24,
   "id": "binding-energy",
   "metadata": {},
   "outputs": [
    {
     "data": {
      "text/plain": [
       "0.8651659617248232"
      ]
     },
     "execution_count": 24,
     "metadata": {},
     "output_type": "execute_result"
    }
   ],
   "source": [
    "last_20_menard_with_dummies = pd.get_dummies(last_20_menard)\n",
    "X = last_20_menard_with_dummies.drop('log_price_per_acre', axis=1)\n",
    "y = last_20_menard_with_dummies['log_price_per_acre']\n",
    "reg.fit(X, y)\n",
    "reg.score(X, y)"
   ]
  },
  {
   "cell_type": "code",
   "execution_count": 25,
   "id": "applied-childhood",
   "metadata": {},
   "outputs": [
    {
     "data": {
      "text/plain": [
       "<matplotlib.axes._subplots.AxesSubplot at 0x1372da790>"
      ]
     },
     "execution_count": 25,
     "metadata": {},
     "output_type": "execute_result"
    },
    {
     "data": {
      "image/png": "[encoded data removed]",
      "text/plain": [
       "<Figure size 864x432 with 1 Axes>"
      ]
     },
     "metadata": {
      "needs_background": "light"
     },
     "output_type": "display_data"
    }
   ],
   "source": [
    "plt.figure(figsize=(12,6))\n",
    "sns.regplot(data=last_20_menard, x='year', y='log_price_per_acre', line_kws={'color': 'red'})"
   ]
  },
  {
   "cell_type": "code",
   "execution_count": 26,
   "id": "controlling-springer",
   "metadata": {
    "tags": []
   },
   "outputs": [
    {
     "data": {
      "text/plain": [
       "array([ 4579.23830033, 22420.13468533])"
      ]
     },
     "execution_count": 26,
     "metadata": {},
     "output_type": "execute_result"
    }
   ],
   "source": [
    "prediction_df = (pd.DataFrame(data={'year': [2020, 2040]}, \n",
    "                             columns=last_20_menard_with_dummies.columns)\n",
    "                  .drop('log_price_per_acre', axis=1)\n",
    "                  .fillna(0))\n",
    "        \n",
    "preds = reg.predict(prediction_df)\n",
    "np.exp(preds)"
   ]
  },
  {
   "cell_type": "markdown",
   "id": "naughty-liquid",
   "metadata": {},
   "source": [
    "This indicates the current average price per acre for the specific Menard area with recent data is `$4,579` with an expected value of `$22,420` in 2040, or an ARR of 8.27%"
   ]
  }
 ],
 "metadata": {
  "kernelspec": {
   "display_name": "Python 3",
   "language": "python",
   "name": "python3"
  },
  "language_info": {
   "codemirror_mode": {
    "name": "ipython",
    "version": 3
   },
   "file_extension": ".py",
   "mimetype": "text/x-python",
   "name": "python",
   "nbconvert_exporter": "python",
   "pygments_lexer": "ipython3",
   "version": "3.9.2"
  }
 },
 "nbformat": 4,
 "nbformat_minor": 5
}
